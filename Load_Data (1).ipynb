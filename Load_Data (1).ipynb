{
  "nbformat": 4,
  "nbformat_minor": 0,
  "metadata": {
    "colab": {
      "name": "Load Data",
      "provenance": [],
      "collapsed_sections": []
    },
    "kernelspec": {
      "name": "python3",
      "display_name": "Python 3"
    }
  },
  "cells": [
    {
      "cell_type": "markdown",
      "metadata": {
        "id": "wUrB4muhX5aM",
        "colab_type": "text"
      },
      "source": [
        "# Reading Data\n",
        "- research paper\n",
        "- hill climb racing\n",
        "- social Media"
      ]
    },
    {
      "cell_type": "code",
      "metadata": {
        "id": "01F29GoWUvHf",
        "colab_type": "code",
        "outputId": "b653c085-62cf-45ce-c49d-15f2f9f68baf",
        "colab": {
          "base_uri": "https://localhost:8080/",
          "height": 50
        }
      },
      "source": [
        "cd Desktop/RaghavendraGaleppa2019/ThinkChipBackend/ThinkChipBackend/"
      ],
      "execution_count": 45,
      "outputs": [
        {
          "output_type": "stream",
          "text": [
            "[Errno 2] No such file or directory: 'Desktop/RaghavendraGaleppa2019/ThinkChipBackend/ThinkChipBackend/'\n",
            "/home/raghavendragaleppa/Desktop/RaghavendraGaleppa2019/ThinkChipBackend/ThinkChipBackend\n"
          ],
          "name": "stdout"
        }
      ]
    },
    {
      "cell_type": "code",
      "metadata": {
        "id": "Bhw_aWmyVrxO",
        "colab_type": "code",
        "colab": {}
      },
      "source": [
        "from pathlib import Path\n",
        "dataDir = Path('test_data/')"
      ],
      "execution_count": 0,
      "outputs": []
    },
    {
      "cell_type": "code",
      "metadata": {
        "id": "L5aOt_c5Vz8_",
        "colab_type": "code",
        "colab": {}
      },
      "source": [
        "import os\n",
        "import pickle\n",
        "files = os.listdir(dataDir)\n",
        "research_paper = []\n",
        "hcl = []\n",
        "social_media =[]\n",
        "for f in files:\n",
        "  if(f[-6:] != 'pickle'):\n",
        "    continue\n",
        "  with open(dataDir/f,'rb') as f_:\n",
        "      data = pickle.load(f_)\n",
        "  if(data.shape[0] < 60):\n",
        "    continue\n",
        "  if 'research_paper' in f:\n",
        "      research_paper.append(data)\n",
        "  if 'social_media' in f:\n",
        "      social_media.append(data)\n",
        "  if 'hcl' in f:\n",
        "      hcl.append(data)\n"
      ],
      "execution_count": 0,
      "outputs": []
    },
    {
      "cell_type": "code",
      "metadata": {
        "id": "i9brGibSXZir",
        "colab_type": "code",
        "colab": {}
      },
      "source": [
        "import numpy as np\n",
        "hcl = np.asarray(hcl).squeeze()\n",
        "social_media = np.asarray(social_media).squeeze()\n",
        "research_paper = research_paper[1]"
      ],
      "execution_count": 0,
      "outputs": []
    },
    {
      "cell_type": "code",
      "metadata": {
        "id": "52XOl4kTXRGE",
        "colab_type": "code",
        "outputId": "72793fb9-2f54-4154-a538-574fb75f231f",
        "colab": {
          "base_uri": "https://localhost:8080/",
          "height": 67
        }
      },
      "source": [
        "print(f\"Reading Research Papaer: {research_paper.shape}\")\n",
        "print(f\"Social Media: {social_media.shape}\")\n",
        "print(f\"Hill Climb Racing: {hcl.shape}\")"
      ],
      "execution_count": 50,
      "outputs": [
        {
          "output_type": "stream",
          "text": [
            "Reading Research Papaer: (600, 8, 250)\n",
            "Social Media: (600, 8, 250)\n",
            "Hill Climb Racing: (70, 8, 250)\n"
          ],
          "name": "stdout"
        }
      ]
    },
    {
      "cell_type": "markdown",
      "metadata": {
        "id": "I9n84DTyYBwz",
        "colab_type": "text"
      },
      "source": [
        "# Get attention "
      ]
    },
    {
      "cell_type": "code",
      "metadata": {
        "id": "5e5L7l7UYGQ6",
        "colab_type": "code",
        "colab": {}
      },
      "source": [
        "from widgets import ENG"
      ],
      "execution_count": 0,
      "outputs": []
    },
    {
      "cell_type": "code",
      "metadata": {
        "id": "NK1j0DcGYJYj",
        "colab_type": "code",
        "outputId": "2c7d94c5-064d-469f-9467-524f14dc51f1",
        "colab": {
          "base_uri": "https://localhost:8080/",
          "height": 34
        }
      },
      "source": [
        "eng = ENG(widget_path='test_data/')\n",
        "eng.attention_matrix = []\n",
        "eng.bandpower = []"
      ],
      "execution_count": 52,
      "outputs": [
        {
          "output_type": "stream",
          "text": [
            "test_data\n"
          ],
          "name": "stdout"
        }
      ]
    },
    {
      "cell_type": "markdown",
      "metadata": {
        "id": "01Mr4punY_eH",
        "colab_type": "text"
      },
      "source": [
        "### Getting attention for research paper data"
      ]
    },
    {
      "cell_type": "code",
      "metadata": {
        "id": "oR6vsbzdZJ_f",
        "colab_type": "code",
        "outputId": "f1452615-129f-4890-9a1a-e1424d3335bd",
        "colab": {
          "base_uri": "https://localhost:8080/",
          "height": 70
        }
      },
      "source": [
        "# get the indices to every 5th epoch\n",
        "import config\n",
        "config.reset_filter_states()\n",
        "idx = list(range(0,research_paper.shape[0],5))\n",
        "eng.attention_matrix = []\n",
        "eng.bandpower = []\n",
        "for i in range(len(idx)-1):\n",
        "  eng.get_attention(research_paper[idx[i]:idx[i+1]],keep_bad_epochs=True)\n",
        "\n",
        "research_paper_atten = eng.attention_matrix\n",
        "research_paper_atten = np.asarray(research_paper_atten).squeeze()\n",
        "research_paper_band = np.asarray(eng.bandpower)"
      ],
      "execution_count": 53,
      "outputs": [
        {
          "output_type": "stream",
          "text": [
            "/usr/lib/python3.7/site-packages/scipy/signal/spectral.py:1969: UserWarning: nperseg = 500 is greater than input length  = 250, using nperseg = 250\n",
            "  .format(nperseg, input_length))\n"
          ],
          "name": "stderr"
        }
      ]
    },
    {
      "cell_type": "markdown",
      "metadata": {
        "colab_type": "text",
        "id": "ne1qoGQnekro"
      },
      "source": [
        "### Getting attention for social paper data"
      ]
    },
    {
      "cell_type": "code",
      "metadata": {
        "colab_type": "code",
        "id": "9QTG1TC0eSVH",
        "colab": {}
      },
      "source": [
        "# get the indices to every 5th epoch\n",
        "config.reset_filter_states()\n",
        "idx = list(range(0,social_media.shape[0],5))\n",
        "eng.attention_matrix = []\n",
        "eng.bandpower =[]\n",
        "for i in range(len(idx)-1):\n",
        "  eng.get_attention(social_media[idx[i]:idx[i+1]],keep_bad_epochs=True)\n",
        "\n",
        "social_media_atten = eng.attention_matrix\n",
        "social_media_atten = np.asarray(social_media_atten).squeeze()\n",
        "social_media_band = np.asarray(eng.bandpower)"
      ],
      "execution_count": 0,
      "outputs": []
    },
    {
      "cell_type": "markdown",
      "metadata": {
        "colab_type": "text",
        "id": "W_7J2AmpesNe"
      },
      "source": [
        "### Getting attention for hill climb racing data"
      ]
    },
    {
      "cell_type": "code",
      "metadata": {
        "colab_type": "code",
        "id": "BcfFAgUQe2cN",
        "colab": {}
      },
      "source": [
        "# get the indices to every 5th epoch\n",
        "config.reset_filter_states()\n",
        "idx = list(range(0,hcl.shape[0],5))\n",
        "eng.attention_matrix = []\n",
        "eng.bandpower = []\n",
        "for i in range(len(idx)-1):\n",
        "  eng.get_attention(hcl[idx[i]:idx[i+1]],keep_bad_epochs=True)\n",
        "\n",
        "hcl_atten = eng.attention_matrix\n",
        "hcl_atten = np.asarray(hcl_atten).squeeze()\n",
        "hcl_band = np.asarray(eng.bandpower)"
      ],
      "execution_count": 0,
      "outputs": []
    },
    {
      "cell_type": "markdown",
      "metadata": {
        "id": "hUYhSUuzfAHS",
        "colab_type": "text"
      },
      "source": [
        "### Plot bandpower of all 3 data's"
      ]
    },
    {
      "cell_type": "code",
      "metadata": {
        "id": "FqhBbFzffDyp",
        "colab_type": "code",
        "colab": {
          "base_uri": "https://localhost:8080/",
          "height": 340
        },
        "outputId": "a9ed6a63-f38e-47e1-c4a7-13e2e51e1c96"
      },
      "source": [
        "# create 4 subplots for 4 bands\n",
        "import matplotlib.pyplot as plt\n",
        "%matplotlib qt\n",
        "fig,ax = plt.subplots(2,2,figsize=(7,5))\n",
        "#fig.subplots_adjust(wspace=0.6,hspace=0.6)\n",
        "ax = ax.reshape(-1)\n",
        "\n",
        "# First plot research_paper bandpower with color red\n",
        "research_paper_band = research_paper_band.squeeze()\n",
        "research_paper_band = research_paper_band[5:]\n",
        "ax[0].plot(research_paper_band[:,0],label='delta',c='r')\n",
        "ax[1].plot(research_paper_band[:,1],label='delta',c='r')\n",
        "ax[2].plot(research_paper_band[:,2],label='delta',c='r')\n",
        "\n",
        "social_media_band = research_paper_band.squeeze()\n",
        "social_media_band = social_media_band[5:]\n",
        "ax[0].plot(social_media_band[:,0],label='delta',c='b')\n",
        "ax[1].plot(social_media_band[:,1],label='delta',c='b')\n",
        "ax[2].plot(social_media_band[:,2],label='delta',c='b')\n",
        "ax[3].plot(social_media_band[:,3],label='delta',c='b')\n",
        "\n",
        "hcl_band = research_paper_band.squeeze()\n",
        "hcl_band = hcl_band[5:]\n",
        "ax[0].plot(hcl_band[:,0],label='delta',c='y')\n",
        "ax[1].plot(hcl_band[:,1],label='delta',c='y')\n",
        "ax[2].plot(hcl_band[:,2],label='delta',c='y')\n",
        "ax[3].plot(hcl_band[:,3],label='delta',c='y')"
      ],
      "execution_count": 56,
      "outputs": [
        {
          "output_type": "execute_result",
          "data": {
            "text/plain": [
              "[<matplotlib.lines.Line2D at 0x7f914b304510>]"
            ]
          },
          "metadata": {
            "tags": []
          },
          "execution_count": 56
        },
        {
          "output_type": "display_data",
          "data": {
            "text/plain": [
              "<Figure size 504x360 with 4 Axes>"
            ],
            "image/png": "[encoded data removed]"
          },
          "metadata": {
            "tags": [],
            "needs_background": "light"
          }
        }
      ]
    },
    {
      "cell_type": "code",
      "metadata": {
        "id": "7Pz7FlTghLb2",
        "colab_type": "code",
        "colab": {}
      },
      "source": [
        "\n",
        "hcl_band = research_paper_band.squeeze()\n",
        "hcl_band = hcl_band[5:]\n",
        "ax[0].plot(hcl_band[:,0],label='delta',c='r')\n",
        "ax[1].plot(hcl_band[:,1],label='delta',c='r')\n",
        "ax[2].plot(hcl_band[:,2],label='delta',c='r')\n",
        "ax[3].plot(hcl_band[:,3],label='delta',c='r')\n",
        "\n",
        "plt.show()"
      ],
      "execution_count": 0,
      "outputs": []
    },
    {
      "cell_type": "code",
      "metadata": {
        "id": "M7p_xu5zfedQ",
        "colab_type": "code",
        "colab": {}
      },
      "source": [
        ""
      ],
      "execution_count": 0,
      "outputs": []
    }
  ]
}