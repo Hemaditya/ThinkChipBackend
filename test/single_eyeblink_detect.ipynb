{
 "cells": [
  {
   "cell_type": "markdown",
   "metadata": {},
   "source": [
    "# This notebook is for detecting single eye blinks in the data"
   ]
  },
  {
   "cell_type": "code",
   "execution_count": 1,
   "metadata": {},
   "outputs": [],
   "source": [
    "import sys\n",
    "sys.path.append('../')\n",
    "\n",
    "import config\n",
    "config.reset_filter_states()\n",
    "import filters as f\n",
    "import numpy as np\n",
    "import torch\n",
    "import os\n",
    "import pickle\n",
    "from pathlib import Path"
   ]
  },
  {
   "cell_type": "code",
   "execution_count": 2,
   "metadata": {},
   "outputs": [],
   "source": [
    "t = Path('../test_data/')\n",
    "files = os.listdir('../test_data/')"
   ]
  },
  {
   "cell_type": "code",
   "execution_count": 3,
   "metadata": {},
   "outputs": [],
   "source": [
    "eyeBlinkFiles = []\n",
    "for file in files:\n",
    "    if('test' in file):\n",
    "        eyeBlinkFiles.append(file)"
   ]
  },
  {
   "cell_type": "code",
   "execution_count": 4,
   "metadata": {},
   "outputs": [
    {
     "data": {
      "text/plain": [
       "['[f]test1091019_205648.pickle']"
      ]
     },
     "execution_count": 4,
     "metadata": {},
     "output_type": "execute_result"
    }
   ],
   "source": [
    "eyeBlinkFiles"
   ]
  },
  {
   "cell_type": "code",
   "execution_count": 5,
   "metadata": {},
   "outputs": [
    {
     "data": {
      "text/plain": [
       "(20, 8, 250)"
      ]
     },
     "execution_count": 5,
     "metadata": {},
     "output_type": "execute_result"
    }
   ],
   "source": [
    "eyeBlinkFiles.sort()\n",
    "fi = open(t/eyeBlinkFiles[-1],'rb')\n",
    "d = pickle.load(fi)\n",
    "d.shape"
   ]
  },
  {
   "cell_type": "code",
   "execution_count": 7,
   "metadata": {},
   "outputs": [
    {
     "data": {
      "image/png": "[encoded data removed]",
      "text/plain": [
       "<Figure size 432x288 with 1 Axes>"
      ]
     },
     "metadata": {
      "needs_background": "light"
     },
     "output_type": "display_data"
    }
   ],
   "source": [
    "import matplotlib.pyplot as plt\n",
    "plt.plot(d[:,0,:].reshape(-1))\n",
    "plt.show()"
   ]
  },
  {
   "cell_type": "code",
   "execution_count": null,
   "metadata": {},
   "outputs": [],
   "source": [
    "data = np.zeros((1,8,250))\n",
    "config.reset_filter_states()\n",
    "for file in eyeBlinkFiles:\n",
    "    with open('../test_data/'+file,'rb') as ef:\n",
    "        d = pickle.load(ef)\n",
    "        print(d.shape)\n",
    "        d = f.apply_bandpass_filter(d,3,7)\n",
    "        d = d[4:]\n",
    "        data = np.vstack((data,d))\n",
    "data = data[1:]"
   ]
  },
  {
   "cell_type": "code",
   "execution_count": null,
   "metadata": {},
   "outputs": [],
   "source": [
    "data.shape"
   ]
  },
  {
   "cell_type": "code",
   "execution_count": null,
   "metadata": {},
   "outputs": [],
   "source": [
    "146/4"
   ]
  },
  {
   "cell_type": "code",
   "execution_count": null,
   "metadata": {},
   "outputs": [],
   "source": [
    "labels = np.array([1,0,0,0]*(int(data.shape[0]/4)))"
   ]
  },
  {
   "cell_type": "code",
   "execution_count": null,
   "metadata": {},
   "outputs": [],
   "source": [
    "labels.shape"
   ]
  },
  {
   "cell_type": "markdown",
   "metadata": {},
   "source": [
    "# Testing out keras"
   ]
  },
  {
   "cell_type": "code",
   "execution_count": null,
   "metadata": {},
   "outputs": [],
   "source": [
    "import keras\n",
    "from keras.layers import Convolution2D, Input, MaxPool2D, AvgPool2D,Dense,Flatten, BatchNormalization\n",
    "from keras.models import Model\n",
    "from keras.utils import np_utils"
   ]
  },
  {
   "cell_type": "code",
   "execution_count": null,
   "metadata": {},
   "outputs": [],
   "source": [
    "inp = Input(shape=(1,250,1))\n",
    "l1 = Convolution2D(32,(1,3),activation='relu',input_shape=(1,250))(inp) # 248\n",
    "l2 = Convolution2D(64,(1,3),activation='relu')(l1) # 246\n",
    "#bn1 = BatchNormalization()(l2)\n",
    "p1 = MaxPool2D((1,2))(l2) # 123\n",
    "l3 = Convolution2D(32,(1,3),activation='relu')(p1) # 121\n",
    "l4 = Convolution2D(64,(1,3),activation='relu')(l3) # 119\n",
    "#bn2 = BatchNormalization()(l4)\n",
    "p2 = MaxPool2D((1,2))(l4) # 59\n",
    "l5 = Convolution2D(32,(1,3),activation='relu')(p2) # 57\n",
    "l6 = Convolution2D(64,(1,3),activation='relu')(l5) # 55\n",
    "#bn3 = BatchNormalization()(l6)\n",
    "p3 = MaxPool2D((1,2))(l6) # 27\n",
    "l7 = Convolution2D(32,(1,3),activation='relu')(p3) # 25\n",
    "l8 = Convolution2D(64,(1,3),activation='relu')(l7) # 23\n",
    "#bn4 = BatchNormalization()(l8)\n",
    "p4 = MaxPool2D((1,2))(l8) # 11\n",
    "l9 = Convolution2D(32,(1,3),activation='relu')(p4) # 9 \n",
    "lX = Convolution2D(64,(1,3),activation='relu')(l9) # 7\n",
    "ap = AvgPool2D((1,7))(lX) # 1\n",
    "flat = Flatten()(ap)\n",
    "d1 = Dense(2,activation='softmax')(flat)\n",
    "model = Model(inputs=inp,outputs=d1)\n",
    "model.compile(loss='categorical_crossentropy',optimizer='rmsprop',metrics=['accuracy'])"
   ]
  },
  {
   "cell_type": "code",
   "execution_count": null,
   "metadata": {},
   "outputs": [],
   "source": [
    "model.summary()"
   ]
  },
  {
   "cell_type": "code",
   "execution_count": null,
   "metadata": {},
   "outputs": [],
   "source": [
    "#np.random.seed(42)\n",
    "chan_0 = data[:,[0],:]\n",
    "chan_0 = np.expand_dims(chan_0,axis=-1)\n",
    "x_data = chan_0/200.0\n",
    "y_data = np_utils.to_categorical(labels)\n",
    "from sklearn.model_selection import train_test_split\n",
    "X,x,Y,y = train_test_split(x_data,y_data,test_size=0.2,random_state=0)\n",
    "#X = (X - X.mean())/X.std()\n",
    "#x = (x - X.mean())/X.std()"
   ]
  },
  {
   "cell_type": "code",
   "execution_count": null,
   "metadata": {},
   "outputs": [],
   "source": [
    "model.fit(X,Y,epochs=10,batch_size=16,validation_data=(x,y),shuffle=True)"
   ]
  },
  {
   "cell_type": "code",
   "execution_count": null,
   "metadata": {},
   "outputs": [],
   "source": [
    "out = model.predict(x)\n",
    "\n",
    "predicted_labels = out.argmax(axis=-1)\n",
    "\n",
    "real_labels = y.argmax(axis=-1)\n",
    "\n",
    "from sklearn.metrics import confusion_matrix\n",
    "\n",
    "cm = confusion_matrix(predicted_labels,real_labels)\n",
    "\n",
    "cm"
   ]
  },
  {
   "cell_type": "markdown",
   "metadata": {},
   "source": [
    "# Plotting wrong labels"
   ]
  },
  {
   "cell_type": "code",
   "execution_count": null,
   "metadata": {},
   "outputs": [],
   "source": [
    "# First get wrong predicted labels\n",
    "wrong = (predicted_labels == real_labels)\n",
    "np.where(wrong == False)"
   ]
  },
  {
   "cell_type": "code",
   "execution_count": null,
   "metadata": {},
   "outputs": [],
   "source": [
    "wrong_idx = np.where(wrong==False)\n",
    "wrong_idx[0]"
   ]
  },
  {
   "cell_type": "code",
   "execution_count": null,
   "metadata": {},
   "outputs": [],
   "source": [
    "wrong_data = x[wrong_idx[0]]"
   ]
  },
  {
   "cell_type": "code",
   "execution_count": null,
   "metadata": {},
   "outputs": [],
   "source": [
    "print(wrong_data.shape)\n",
    "wrong_data = np.squeeze(wrong_data)\n",
    "print(wrong_data.shape)"
   ]
  },
  {
   "cell_type": "code",
   "execution_count": null,
   "metadata": {},
   "outputs": [],
   "source": [
    "import matplotlib.pyplot as plt\n",
    "%matplotlib inline\n",
    "fig,ax = plt.subplots(wrong_data.shape[0],1,figsize=(10,15))\n",
    "if(type(ax) != np.ndarray):\n",
    "    ax = np.array([ax])\n",
    "lab = {0:'No Blink',1:'Blink'}\n",
    "for i in range(wrong_data.shape[0]):\n",
    "    ax[i].plot(wrong_data[i])\n",
    "    ax[i].set_title(f'real: {lab[real_labels[wrong_idx[0][i]]]}, pred:{lab[predicted_labels[wrong_idx[0][i]]]}')\n",
    "    ax[i].set_ylim(-1,1)\n",
    "plt.show()"
   ]
  },
  {
   "cell_type": "markdown",
   "metadata": {},
   "source": [
    "# Hoow classification matrix works"
   ]
  },
  {
   "cell_type": "code",
   "execution_count": null,
   "metadata": {},
   "outputs": [],
   "source": [
    "x = [0,1,0,1,0,0]\n",
    "y = [0,1,0,1,1,0]"
   ]
  },
  {
   "cell_type": "code",
   "execution_count": null,
   "metadata": {},
   "outputs": [],
   "source": [
    "cm = confusion_matrix(x,y)"
   ]
  },
  {
   "cell_type": "code",
   "execution_count": null,
   "metadata": {},
   "outputs": [],
   "source": [
    "cm"
   ]
  },
  {
   "cell_type": "code",
   "execution_count": null,
   "metadata": {},
   "outputs": [],
   "source": []
  }
 ],
 "metadata": {
  "kernelspec": {
   "display_name": "Python 3",
   "language": "python",
   "name": "python3"
  },
  "language_info": {
   "codemirror_mode": {
    "name": "ipython",
    "version": 3
   },
   "file_extension": ".py",
   "mimetype": "text/x-python",
   "name": "python",
   "nbconvert_exporter": "python",
   "pygments_lexer": "ipython3",
   "version": "3.6.8"
  }
 },
 "nbformat": 4,
 "nbformat_minor": 2
}
