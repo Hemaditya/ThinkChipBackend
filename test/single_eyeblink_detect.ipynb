{
 "cells": [
  {
   "cell_type": "markdown",
   "metadata": {},
   "source": [
    "# This notebook is for detecting single eye blinks in the data"
   ]
  },
  {
   "cell_type": "code",
   "execution_count": 1,
   "metadata": {},
   "outputs": [
    {
     "name": "stdout",
     "output_type": "stream",
     "text": [
      "Starting creating streamer....\n",
      "Using config.dataReader - random number\n"
     ]
    }
   ],
   "source": [
    "import sys\n",
    "sys.path.append('../')\n",
    "\n",
    "import config\n",
    "config.reset_filter_states()\n",
    "import filters as f\n",
    "import numpy as np\n",
    "import torch\n",
    "import os\n",
    "import pickle\n",
    "from pathlib import Path"
   ]
  },
  {
   "cell_type": "code",
   "execution_count": 11,
   "metadata": {},
   "outputs": [
    {
     "data": {
      "text/plain": [
       "['[f]SingleBlink091019_175505.pickle',\n",
       " '[f]SingleBlink091019_182844.pickle',\n",
       " '[f]SingleBlink091019_182716.pickle',\n",
       " '[f]SingleBlink091019_182530.pickle',\n",
       " '[f]SingleBlink091019_182955.pickle']"
      ]
     },
     "execution_count": 11,
     "metadata": {},
     "output_type": "execute_result"
    }
   ],
   "source": [
    "t = Path('../test_data/SingleBlinksData')\n",
    "files = os.listdir(t)\n",
    "files"
   ]
  },
  {
   "cell_type": "code",
   "execution_count": 12,
   "metadata": {},
   "outputs": [],
   "source": [
    "eyeBlinkFiles = []\n",
    "for file in files:\n",
    "    if('Single' in file):\n",
    "        eyeBlinkFiles.append(file)"
   ]
  },
  {
   "cell_type": "code",
   "execution_count": 13,
   "metadata": {},
   "outputs": [
    {
     "data": {
      "text/plain": [
       "['[f]SingleBlink091019_175505.pickle',\n",
       " '[f]SingleBlink091019_182844.pickle',\n",
       " '[f]SingleBlink091019_182716.pickle',\n",
       " '[f]SingleBlink091019_182530.pickle',\n",
       " '[f]SingleBlink091019_182955.pickle']"
      ]
     },
     "execution_count": 13,
     "metadata": {},
     "output_type": "execute_result"
    }
   ],
   "source": [
    "eyeBlinkFiles"
   ]
  },
  {
   "cell_type": "code",
   "execution_count": 14,
   "metadata": {},
   "outputs": [
    {
     "data": {
      "text/plain": [
       "(60, 8, 250)"
      ]
     },
     "execution_count": 14,
     "metadata": {},
     "output_type": "execute_result"
    }
   ],
   "source": [
    "eyeBlinkFiles.sort()\n",
    "fi = open(t/eyeBlinkFiles[-1],'rb')\n",
    "d = pickle.load(fi)\n",
    "d.shape"
   ]
  },
  {
   "cell_type": "code",
   "execution_count": 15,
   "metadata": {},
   "outputs": [
    {
     "data": {
      "text/plain": [
       "<Figure size 640x480 with 1 Axes>"
      ]
     },
     "metadata": {},
     "output_type": "display_data"
    }
   ],
   "source": [
    "import matplotlib.pyplot as plt\n",
    "plt.plot(d[:,0,:].reshape(-1))\n",
    "plt.show()"
   ]
  },
  {
   "cell_type": "code",
   "execution_count": 17,
   "metadata": {},
   "outputs": [
    {
     "name": "stdout",
     "output_type": "stream",
     "text": [
      "(120, 8, 250)\n",
      "(60, 8, 250)\n",
      "(60, 8, 250)\n",
      "(60, 8, 250)\n",
      "(60, 8, 250)\n"
     ]
    }
   ],
   "source": [
    "data = np.zeros((1,8,250))\n",
    "config.reset_filter_states()\n",
    "for file in eyeBlinkFiles:\n",
    "    with open(t/file,'rb') as ef:\n",
    "        d = pickle.load(ef)\n",
    "        print(d.shape)\n",
    "        d = f.apply_bandpass_filter(d,3,7)\n",
    "        d = d[4:]\n",
    "        data = np.vstack((data,d))\n",
    "data = data[1:]"
   ]
  },
  {
   "cell_type": "code",
   "execution_count": 18,
   "metadata": {},
   "outputs": [
    {
     "data": {
      "text/plain": [
       "(340, 8, 250)"
      ]
     },
     "execution_count": 18,
     "metadata": {},
     "output_type": "execute_result"
    }
   ],
   "source": [
    "data.shape"
   ]
  },
  {
   "cell_type": "code",
   "execution_count": 19,
   "metadata": {},
   "outputs": [
    {
     "data": {
      "text/plain": [
       "36.5"
      ]
     },
     "execution_count": 19,
     "metadata": {},
     "output_type": "execute_result"
    }
   ],
   "source": [
    "146/4"
   ]
  },
  {
   "cell_type": "code",
   "execution_count": 20,
   "metadata": {},
   "outputs": [],
   "source": [
    "labels = np.array([1,0,0,0]*(int(data.shape[0]/4)))"
   ]
  },
  {
   "cell_type": "code",
   "execution_count": 21,
   "metadata": {},
   "outputs": [
    {
     "data": {
      "text/plain": [
       "(340,)"
      ]
     },
     "execution_count": 21,
     "metadata": {},
     "output_type": "execute_result"
    }
   ],
   "source": [
    "labels.shape"
   ]
  },
  {
   "cell_type": "markdown",
   "metadata": {},
   "source": [
    "# Testing out keras"
   ]
  },
  {
   "cell_type": "code",
   "execution_count": 22,
   "metadata": {},
   "outputs": [
    {
     "name": "stderr",
     "output_type": "stream",
     "text": [
      "Using Theano backend.\n"
     ]
    }
   ],
   "source": [
    "import keras\n",
    "from keras.layers import Convolution2D, Input, MaxPool2D, AvgPool2D,Dense,Flatten, BatchNormalization\n",
    "from keras.models import Model\n",
    "from keras.utils import np_utils"
   ]
  },
  {
   "cell_type": "code",
   "execution_count": 23,
   "metadata": {},
   "outputs": [],
   "source": [
    "inp = Input(shape=(1,250,1))\n",
    "l1 = Convolution2D(32,(1,3),activation='relu',input_shape=(1,250))(inp) # 248\n",
    "l2 = Convolution2D(64,(1,3),activation='relu')(l1) # 246\n",
    "#bn1 = BatchNormalization()(l2)\n",
    "p1 = MaxPool2D((1,2))(l2) # 123\n",
    "l3 = Convolution2D(32,(1,3),activation='relu')(p1) # 121\n",
    "l4 = Convolution2D(64,(1,3),activation='relu')(l3) # 119\n",
    "#bn2 = BatchNormalization()(l4)\n",
    "p2 = MaxPool2D((1,2))(l4) # 59\n",
    "l5 = Convolution2D(32,(1,3),activation='relu')(p2) # 57\n",
    "l6 = Convolution2D(64,(1,3),activation='relu')(l5) # 55\n",
    "#bn3 = BatchNormalization()(l6)\n",
    "p3 = MaxPool2D((1,2))(l6) # 27\n",
    "l7 = Convolution2D(32,(1,3),activation='relu')(p3) # 25\n",
    "l8 = Convolution2D(64,(1,3),activation='relu')(l7) # 23\n",
    "#bn4 = BatchNormalization()(l8)\n",
    "p4 = MaxPool2D((1,2))(l8) # 11\n",
    "l9 = Convolution2D(32,(1,3),activation='relu')(p4) # 9 \n",
    "lX = Convolution2D(64,(1,3),activation='relu')(l9) # 7\n",
    "ap = AvgPool2D((1,7))(lX) # 1\n",
    "flat = Flatten()(ap)\n",
    "d1 = Dense(2,activation='softmax')(flat)\n",
    "model = Model(inputs=inp,outputs=d1)\n",
    "model.compile(loss='categorical_crossentropy',optimizer='rmsprop',metrics=['accuracy'])"
   ]
  },
  {
   "cell_type": "code",
   "execution_count": 24,
   "metadata": {},
   "outputs": [
    {
     "name": "stdout",
     "output_type": "stream",
     "text": [
      "_________________________________________________________________\n",
      "Layer (type)                 Output Shape              Param #   \n",
      "=================================================================\n",
      "input_1 (InputLayer)         (None, 1, 250, 1)         0         \n",
      "_________________________________________________________________\n",
      "conv2d_1 (Conv2D)            (None, 1, 248, 32)        128       \n",
      "_________________________________________________________________\n",
      "conv2d_2 (Conv2D)            (None, 1, 246, 64)        6208      \n",
      "_________________________________________________________________\n",
      "max_pooling2d_1 (MaxPooling2 (None, 1, 123, 64)        0         \n",
      "_________________________________________________________________\n",
      "conv2d_3 (Conv2D)            (None, 1, 121, 32)        6176      \n",
      "_________________________________________________________________\n",
      "conv2d_4 (Conv2D)            (None, 1, 119, 64)        6208      \n",
      "_________________________________________________________________\n",
      "max_pooling2d_2 (MaxPooling2 (None, 1, 59, 64)         0         \n",
      "_________________________________________________________________\n",
      "conv2d_5 (Conv2D)            (None, 1, 57, 32)         6176      \n",
      "_________________________________________________________________\n",
      "conv2d_6 (Conv2D)            (None, 1, 55, 64)         6208      \n",
      "_________________________________________________________________\n",
      "max_pooling2d_3 (MaxPooling2 (None, 1, 27, 64)         0         \n",
      "_________________________________________________________________\n",
      "conv2d_7 (Conv2D)            (None, 1, 25, 32)         6176      \n",
      "_________________________________________________________________\n",
      "conv2d_8 (Conv2D)            (None, 1, 23, 64)         6208      \n",
      "_________________________________________________________________\n",
      "max_pooling2d_4 (MaxPooling2 (None, 1, 11, 64)         0         \n",
      "_________________________________________________________________\n",
      "conv2d_9 (Conv2D)            (None, 1, 9, 32)          6176      \n",
      "_________________________________________________________________\n",
      "conv2d_10 (Conv2D)           (None, 1, 7, 64)          6208      \n",
      "_________________________________________________________________\n",
      "average_pooling2d_1 (Average (None, 1, 1, 64)          0         \n",
      "_________________________________________________________________\n",
      "flatten_1 (Flatten)          (None, 64)                0         \n",
      "_________________________________________________________________\n",
      "dense_1 (Dense)              (None, 2)                 130       \n",
      "=================================================================\n",
      "Total params: 56,002\n",
      "Trainable params: 56,002\n",
      "Non-trainable params: 0\n",
      "_________________________________________________________________\n"
     ]
    }
   ],
   "source": [
    "model.summary()"
   ]
  },
  {
   "cell_type": "code",
   "execution_count": 25,
   "metadata": {},
   "outputs": [],
   "source": [
    "#np.random.seed(42)\n",
    "chan_0 = data[:,[0],:]\n",
    "chan_0 = np.expand_dims(chan_0,axis=-1)\n",
    "x_data = chan_0/200.0\n",
    "y_data = np_utils.to_categorical(labels)\n",
    "from sklearn.model_selection import train_test_split\n",
    "X,x,Y,y = train_test_split(x_data,y_data,test_size=0.2,random_state=0)\n",
    "#X = (X - X.mean())/X.std()\n",
    "#x = (x - X.mean())/X.std()"
   ]
  },
  {
   "cell_type": "code",
   "execution_count": 26,
   "metadata": {},
   "outputs": [
    {
     "name": "stdout",
     "output_type": "stream",
     "text": [
      "Train on 272 samples, validate on 68 samples\n",
      "Epoch 1/10\n",
      "272/272 [==============================] - 2s 7ms/step - loss: 0.5952 - acc: 0.7390 - val_loss: 0.3066 - val_acc: 0.8824\n",
      "Epoch 2/10\n",
      "272/272 [==============================] - 2s 7ms/step - loss: 0.2433 - acc: 0.9265 - val_loss: 0.2722 - val_acc: 0.9265\n",
      "Epoch 3/10\n",
      "272/272 [==============================] - 2s 7ms/step - loss: 0.1964 - acc: 0.9559 - val_loss: 0.2356 - val_acc: 0.9412\n",
      "Epoch 4/10\n",
      "272/272 [==============================] - 2s 7ms/step - loss: 0.1878 - acc: 0.9485 - val_loss: 0.2475 - val_acc: 0.9412\n",
      "Epoch 5/10\n",
      "272/272 [==============================] - 2s 9ms/step - loss: 0.1536 - acc: 0.9669 - val_loss: 0.2429 - val_acc: 0.9412\n",
      "Epoch 6/10\n",
      "272/272 [==============================] - 2s 7ms/step - loss: 0.1365 - acc: 0.9632 - val_loss: 0.2722 - val_acc: 0.9412\n",
      "Epoch 7/10\n",
      "272/272 [==============================] - 2s 7ms/step - loss: 0.1224 - acc: 0.9669 - val_loss: 0.2682 - val_acc: 0.9412\n",
      "Epoch 8/10\n",
      "272/272 [==============================] - 2s 7ms/step - loss: 0.1075 - acc: 0.9706 - val_loss: 0.2521 - val_acc: 0.9412\n",
      "Epoch 9/10\n",
      "272/272 [==============================] - 2s 7ms/step - loss: 0.1082 - acc: 0.9706 - val_loss: 0.2912 - val_acc: 0.9412\n",
      "Epoch 10/10\n",
      "272/272 [==============================] - 2s 7ms/step - loss: 0.1382 - acc: 0.9669 - val_loss: 0.2990 - val_acc: 0.9265\n"
     ]
    },
    {
     "data": {
      "text/plain": [
       "<keras.callbacks.History at 0x7f599459a080>"
      ]
     },
     "execution_count": 26,
     "metadata": {},
     "output_type": "execute_result"
    }
   ],
   "source": [
    "model.fit(X,Y,epochs=10,batch_size=16,validation_data=(x,y),shuffle=True)"
   ]
  },
  {
   "cell_type": "code",
   "execution_count": 28,
   "metadata": {},
   "outputs": [
    {
     "data": {
      "text/plain": [
       "array([[50,  3],\n",
       "       [ 2, 13]])"
      ]
     },
     "execution_count": 28,
     "metadata": {},
     "output_type": "execute_result"
    }
   ],
   "source": [
    "out = model.predict(x)\n",
    "\n",
    "predicted_labels = out.argmax(axis=-1)\n",
    "\n",
    "real_labels = y.argmax(axis=-1)\n",
    "\n",
    "from sklearn.metrics import confusion_matrix\n",
    "\n",
    "cm = confusion_matrix(predicted_labels,real_labels)\n",
    "\n",
    "cm"
   ]
  },
  {
   "cell_type": "markdown",
   "metadata": {},
   "source": [
    "# Plotting wrong labels"
   ]
  },
  {
   "cell_type": "code",
   "execution_count": 29,
   "metadata": {},
   "outputs": [
    {
     "data": {
      "text/plain": [
       "(array([12, 17, 27, 32, 61]),)"
      ]
     },
     "execution_count": 29,
     "metadata": {},
     "output_type": "execute_result"
    }
   ],
   "source": [
    "# First get wrong predicted labels\n",
    "wrong = (predicted_labels == real_labels)\n",
    "np.where(wrong == False)"
   ]
  },
  {
   "cell_type": "code",
   "execution_count": 30,
   "metadata": {},
   "outputs": [
    {
     "data": {
      "text/plain": [
       "array([12, 17, 27, 32, 61])"
      ]
     },
     "execution_count": 30,
     "metadata": {},
     "output_type": "execute_result"
    }
   ],
   "source": [
    "wrong_idx = np.where(wrong==False)\n",
    "wrong_idx[0]"
   ]
  },
  {
   "cell_type": "code",
   "execution_count": 31,
   "metadata": {},
   "outputs": [],
   "source": [
    "wrong_data = x[wrong_idx[0]]"
   ]
  },
  {
   "cell_type": "code",
   "execution_count": 32,
   "metadata": {},
   "outputs": [
    {
     "name": "stdout",
     "output_type": "stream",
     "text": [
      "(5, 1, 250, 1)\n",
      "(5, 250)\n"
     ]
    }
   ],
   "source": [
    "print(wrong_data.shape)\n",
    "wrong_data = np.squeeze(wrong_data)\n",
    "print(wrong_data.shape)"
   ]
  },
  {
   "cell_type": "code",
   "execution_count": 33,
   "metadata": {},
   "outputs": [
    {
     "data": {
      "image/png": "[encoded data removed]",
      "text/plain": [
       "<Figure size 720x1080 with 5 Axes>"
      ]
     },
     "metadata": {
      "needs_background": "light"
     },
     "output_type": "display_data"
    }
   ],
   "source": [
    "import matplotlib.pyplot as plt\n",
    "%matplotlib inline\n",
    "fig,ax = plt.subplots(wrong_data.shape[0],1,figsize=(10,15))\n",
    "if(type(ax) != np.ndarray):\n",
    "    ax = np.array([ax])\n",
    "lab = {0:'No Blink',1:'Blink'}\n",
    "for i in range(wrong_data.shape[0]):\n",
    "    ax[i].plot(wrong_data[i])\n",
    "    ax[i].set_title(f'real: {lab[real_labels[wrong_idx[0][i]]]}, pred:{lab[predicted_labels[wrong_idx[0][i]]]}')\n",
    "    ax[i].set_ylim(-1,1)\n",
    "plt.show()"
   ]
  },
  {
   "cell_type": "markdown",
   "metadata": {},
   "source": [
    "# Hoow classification matrix works"
   ]
  },
  {
   "cell_type": "code",
   "execution_count": null,
   "metadata": {},
   "outputs": [],
   "source": [
    "x = [0,1,0,1,0,0]\n",
    "y = [0,1,0,1,1,0]"
   ]
  },
  {
   "cell_type": "code",
   "execution_count": null,
   "metadata": {},
   "outputs": [],
   "source": [
    "cm = confusion_matrix(x,y)"
   ]
  },
  {
   "cell_type": "code",
   "execution_count": null,
   "metadata": {},
   "outputs": [],
   "source": [
    "cm"
   ]
  },
  {
   "cell_type": "code",
   "execution_count": null,
   "metadata": {},
   "outputs": [],
   "source": []
  }
 ],
 "metadata": {
  "kernelspec": {
   "display_name": "Python 3",
   "language": "python",
   "name": "python3"
  },
  "language_info": {
   "codemirror_mode": {
    "name": "ipython",
    "version": 3
   },
   "file_extension": ".py",
   "mimetype": "text/x-python",
   "name": "python",
   "nbconvert_exporter": "python",
   "pygments_lexer": "ipython3",
   "version": "3.6.8"
  }
 },
 "nbformat": 4,
 "nbformat_minor": 2
}
