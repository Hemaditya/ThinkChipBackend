{
 "cells": [
  {
   "cell_type": "code",
   "execution_count": 1,
   "metadata": {},
   "outputs": [
    {
     "name": "stdout",
     "output_type": "stream",
     "text": [
      "Starting creating streamer....\n",
      "Serial established\n",
      "Building Session Folders....\n",
      "Using OpenBCI\n",
      "../test_data\n"
     ]
    }
   ],
   "source": [
    "import sys\n",
    "sys.path.append('../')\n",
    "import numpy as np\n",
    "import widgets\n",
    "import config\n",
    "config.reset_filter_states()\n",
    "\n",
    "eng = widgets.ENG('../test_data',trails=300)"
   ]
  },
  {
   "cell_type": "code",
   "execution_count": 2,
   "metadata": {
    "scrolled": false
   },
   "outputs": [
    {
     "name": "stdout",
     "output_type": "stream",
     "text": [
      " Time elapsed: 0\n",
      "Skipped 100 bytes before start found\n",
      " Time elapsed: 5\n"
     ]
    },
    {
     "name": "stderr",
     "output_type": "stream",
     "text": [
      "/usr/local/lib/python3.6/dist-packages/scipy/signal/spectral.py:1633: UserWarning: nperseg = 500 is greater than input length  = 250, using nperseg = 250\n",
      "  .format(nperseg, input_length))\n"
     ]
    },
    {
     "name": "stdout",
     "output_type": "stream",
     "text": [
      " Time elapsed: 10\n",
      " Time elapsed: 15\n",
      " Time elapsed: 20\n",
      " Time elapsed: 25\n",
      " Time elapsed: 30\n",
      " Time elapsed: 35\n",
      " Time elapsed: 40\n",
      " Time elapsed: 45\n",
      " Time elapsed: 50\n",
      " Time elapsed: 55\n",
      " Time elapsed: 60\n",
      " Time elapsed: 65\n",
      " Time elapsed: 70\n",
      " Time elapsed: 75\n",
      " Time elapsed: 80\n",
      " Time elapsed: 85\n",
      " Time elapsed: 90\n",
      " Time elapsed: 95\n",
      " Time elapsed: 100\n",
      " Time elapsed: 105\n",
      " Time elapsed: 110\n",
      " Time elapsed: 115\n",
      " Time elapsed: 120\n",
      " Time elapsed: 125\n",
      " Time elapsed: 130\n",
      " Time elapsed: 135\n",
      " Time elapsed: 140\n",
      " Time elapsed: 145\n",
      " Time elapsed: 150\n",
      " Time elapsed: 155\n",
      " Time elapsed: 160\n",
      " Time elapsed: 165\n",
      " Time elapsed: 170\n",
      " Time elapsed: 175\n",
      " Time elapsed: 180\n",
      " Time elapsed: 185\n",
      " Time elapsed: 190\n",
      " Time elapsed: 195\n",
      " Time elapsed: 200\n",
      " Time elapsed: 205\n",
      " Time elapsed: 210\n",
      " Time elapsed: 215\n",
      " Time elapsed: 220\n",
      " Time elapsed: 225\n",
      " Time elapsed: 230\n",
      " Time elapsed: 235\n",
      " Time elapsed: 240\n",
      " Time elapsed: 245\n",
      " Time elapsed: 250\n",
      " Time elapsed: 255\n",
      " Time elapsed: 260\n",
      " Time elapsed: 265\n",
      " Time elapsed: 270\n",
      " Time elapsed: 275\n",
      " Time elapsed: 280\n",
      " Time elapsed: 285\n",
      " Time elapsed: 290\n",
      " Time elapsed: 295\n"
     ]
    }
   ],
   "source": [
    "#test_data = np;.;..random.randn(5, 8, 250\n",
    "#print('attention_matrix', eng.attention_matrix)\n",
    "eng.test_start_session('sashi_EYES_CLOSED',read_length=5)"
   ]
  },
  {
   "cell_type": "code",
   "execution_count": null,
   "metadata": {
    "scrolled": true
   },
   "outputs": [],
   "source": [
    "eng.attention_matrix"
   ]
  },
  {
   "cell_type": "code",
   "execution_count": null,
   "metadata": {},
   "outputs": [],
   "source": []
  },
  {
   "cell_type": "code",
   "execution_count": null,
   "metadata": {},
   "outputs": [],
   "source": [
    "import matplotlib.pyplot as plt\n",
    "plt.plot(eng.attention_matrix)\n",
    "plt.show()"
   ]
  },
  {
   "cell_type": "code",
   "execution_count": 3,
   "metadata": {},
   "outputs": [
    {
     "name": "stdout",
     "output_type": "stream",
     "text": [
      " call_of_duty.pickle\r\n",
      " facebook.pickle\r\n",
      "'[f]assignment|141019_190516.pickle'\r\n",
      "'[f]eyes_closed|141019_160513.pickle'\r\n",
      "'[f]facebook|141019_160022.pickle'\r\n",
      "'[f]hcl_1|111019_142206.pickle'\r\n",
      "'[f]reading_research_paper_1|111019_145415.pickle'\r\n",
      "'[f]reading_research_paper_1|111019_150922.pickle'\r\n",
      "'[f]sashi_eyes_closed|151019_135421.pickle'\r\n",
      "'[f]social_media|111019_153856.pickle'\r\n",
      " \u001b[0m\u001b[01;34mraghav_eyes_closed\u001b[0m/\r\n",
      " \u001b[01;34mSessionData\u001b[0m/\r\n",
      " \u001b[01;34mSingleBlinksData\u001b[0m/\r\n"
     ]
    }
   ],
   "source": [
    "ls ../test_data"
   ]
  },
  {
   "cell_type": "code",
   "execution_count": 5,
   "metadata": {},
   "outputs": [],
   "source": [
    "file_name = '[f]sashi_eyes_closed|151019_135421.pickle'\n",
    "import pickle\n",
    "with open('../test_data/'+file_name,'rb') as f_:\n",
    "    data = pickle.load(f_)"
   ]
  },
  {
   "cell_type": "code",
   "execution_count": 6,
   "metadata": {},
   "outputs": [
    {
     "data": {
      "text/plain": [
       "(600, 8, 250)"
      ]
     },
     "execution_count": 6,
     "metadata": {},
     "output_type": "execute_result"
    }
   ],
   "source": [
    "data.shape"
   ]
  },
  {
   "cell_type": "code",
   "execution_count": 9,
   "metadata": {},
   "outputs": [
    {
     "data": {
      "image/png": "[encoded data removed]",
      "text/plain": [
       "<Figure size 432x288 with 1 Axes>"
      ]
     },
     "metadata": {
      "needs_background": "light"
     },
     "output_type": "display_data"
    }
   ],
   "source": [
    "import matplotlib.pyplot as plt\n",
    "plt.plot(data[5:,0,:].reshape(-1))\n",
    "plt.show()"
   ]
  },
  {
   "cell_type": "code",
   "execution_count": null,
   "metadata": {},
   "outputs": [],
   "source": []
  }
 ],
 "metadata": {
  "kernelspec": {
   "display_name": "Python 3",
   "language": "python",
   "name": "python3"
  },
  "language_info": {
   "codemirror_mode": {
    "name": "ipython",
    "version": 3
   },
   "file_extension": ".py",
   "mimetype": "text/x-python",
   "name": "python",
   "nbconvert_exporter": "python",
   "pygments_lexer": "ipython3",
   "version": "3.6.8"
  }
 },
 "nbformat": 4,
 "nbformat_minor": 2
}
