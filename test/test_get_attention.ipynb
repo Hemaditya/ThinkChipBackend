{
 "cells": [
  {
   "cell_type": "code",
   "execution_count": 1,
   "metadata": {},
   "outputs": [
    {
     "name": "stdout",
     "output_type": "stream",
     "text": [
      "Starting creating streamer....\n",
      "Serial established\n",
      "Building Session Folders....\n",
      "../test_data\n"
     ]
    }
   ],
   "source": [
    "import sys\n",
    "sys.path.append('../')\n",
    "import numpy as np\n",
    "import widgets\n",
    "import config\n",
    "config.reset_filter_states()\n",
    "\n",
    "eng = widgets.ENG('../test_data',trails=600)"
   ]
  },
  {
   "cell_type": "code",
   "execution_count": 2,
   "metadata": {},
   "outputs": [
    {
     "name": "stdout",
     "output_type": "stream",
     "text": [
      " Time elapsed: 0\n",
      "Skipped 100 bytes before start found\n",
      " Time elapsed: 5\n",
      " Time elapsed: 10\n",
      " Time elapsed: 15\n",
      " Time elapsed: 20\n",
      "Skipped 18 bytes before start found\n",
      " Time elapsed: 25\n",
      " Time elapsed: 30\n",
      " Time elapsed: 35\n",
      " Time elapsed: 40\n",
      " Time elapsed: 45\n",
      " Time elapsed: 50\n",
      " Time elapsed: 55\n"
     ]
    },
    {
     "name": "stderr",
     "output_type": "stream",
     "text": [
      "/usr/local/lib/python3.6/dist-packages/scipy/signal/spectral.py:1633: UserWarning: nperseg = 500 is greater than input length  = 250, using nperseg = 250\n",
      "  .format(nperseg, input_length))\n"
     ]
    },
    {
     "name": "stdout",
     "output_type": "stream",
     "text": [
      " Time elapsed: 60\n",
      " Time elapsed: 65\n",
      " Time elapsed: 70\n",
      " Time elapsed: 75\n",
      " Time elapsed: 80\n",
      "Skipped 61 bytes before start found\n",
      " Time elapsed: 85\n",
      " Time elapsed: 90\n",
      " Time elapsed: 95\n",
      " Time elapsed: 100\n",
      " Time elapsed: 105\n",
      " Time elapsed: 110\n",
      " Time elapsed: 115\n",
      " Time elapsed: 120\n",
      " Time elapsed: 125\n",
      " Time elapsed: 130\n",
      " Time elapsed: 135\n",
      " Time elapsed: 140\n",
      " Time elapsed: 145\n",
      "Skipped 2 bytes before start found\n",
      "ID:<128> <Unexpected END_BYTE found <183> instead of <192>\n",
      "Skipped 23 bytes before start found\n",
      " Time elapsed: 150\n",
      " Time elapsed: 155\n",
      " Time elapsed: 160\n",
      " Time elapsed: 165\n",
      " Time elapsed: 170\n",
      " Time elapsed: 175\n",
      "Skipped 26 bytes before start found\n",
      " Time elapsed: 180\n",
      " Time elapsed: 185\n",
      " Time elapsed: 190\n",
      " Time elapsed: 195\n",
      " Time elapsed: 200\n",
      " Time elapsed: 205\n",
      "Skipped 60 bytes before start found\n",
      " Time elapsed: 210\n",
      " Time elapsed: 215\n",
      "Skipped 8 bytes before start found\n",
      " Time elapsed: 220\n",
      " Time elapsed: 225\n",
      " Time elapsed: 230\n",
      " Time elapsed: 235\n",
      " Time elapsed: 240\n",
      " Time elapsed: 245\n",
      " Time elapsed: 250\n",
      " Time elapsed: 255\n",
      " Time elapsed: 260\n",
      " Time elapsed: 265\n",
      " Time elapsed: 270\n",
      " Time elapsed: 275\n",
      " Time elapsed: 280\n",
      " Time elapsed: 285\n",
      " Time elapsed: 290\n",
      "Skipped 34 bytes before start found\n",
      "Skipped 1 bytes before start found\n",
      "Skipped 18 bytes before start found\n",
      " Time elapsed: 295\n",
      " Time elapsed: 300\n",
      " Time elapsed: 305\n",
      " Time elapsed: 310\n",
      " Time elapsed: 315\n",
      " Time elapsed: 320\n",
      " Time elapsed: 325\n",
      " Time elapsed: 330\n",
      " Time elapsed: 335\n",
      " Time elapsed: 340\n",
      " Time elapsed: 345\n",
      " Time elapsed: 350\n",
      " Time elapsed: 355\n",
      " Time elapsed: 360\n",
      " Time elapsed: 365\n",
      " Time elapsed: 370\n",
      " Time elapsed: 375\n",
      " Time elapsed: 380\n",
      "Skipped 18 bytes before start found\n",
      " Time elapsed: 385\n",
      " Time elapsed: 390\n",
      " Time elapsed: 395\n",
      " Time elapsed: 400\n",
      " Time elapsed: 405\n",
      " Time elapsed: 410\n",
      " Time elapsed: 415\n",
      " Time elapsed: 420\n",
      " Time elapsed: 425\n",
      " Time elapsed: 430\n",
      " Time elapsed: 435\n",
      " Time elapsed: 440\n",
      " Time elapsed: 445\n",
      " Time elapsed: 450\n",
      " Time elapsed: 455\n",
      " Time elapsed: 460\n",
      " Time elapsed: 465\n",
      " Time elapsed: 470\n",
      " Time elapsed: 475\n",
      " Time elapsed: 480\n",
      " Time elapsed: 485\n",
      " Time elapsed: 490\n",
      " Time elapsed: 495\n",
      " Time elapsed: 500\n",
      " Time elapsed: 505\n",
      " Time elapsed: 510\n",
      " Time elapsed: 515\n",
      " Time elapsed: 520\n",
      " Time elapsed: 525\n",
      " Time elapsed: 530\n",
      " Time elapsed: 535\n",
      " Time elapsed: 540\n",
      " Time elapsed: 545\n",
      " Time elapsed: 550\n",
      " Time elapsed: 555\n",
      " Time elapsed: 560\n",
      " Time elapsed: 565\n",
      " Time elapsed: 570\n",
      " Time elapsed: 575\n",
      " Time elapsed: 580\n",
      " Time elapsed: 585\n",
      " Time elapsed: 590\n",
      " Time elapsed: 595\n"
     ]
    }
   ],
   "source": [
    "#test_data = np.random.randn(5, 8, 250\n",
    "#print('attention_matrix', eng.attention_matrix)\n",
    "eng.test_start_session('reading_research_paper_1',read_length=5)"
   ]
  },
  {
   "cell_type": "code",
   "execution_count": null,
   "metadata": {
    "scrolled": true
   },
   "outputs": [],
   "source": [
    "eng.attention_matrix"
   ]
  },
  {
   "cell_type": "code",
   "execution_count": null,
   "metadata": {},
   "outputs": [],
   "source": []
  },
  {
   "cell_type": "code",
   "execution_count": null,
   "metadata": {},
   "outputs": [],
   "source": [
    "import matplotlib.pyplot as plt\n",
    "plt.plot(eng.attention_matrix)\n",
    "plt.show()"
   ]
  },
  {
   "cell_type": "code",
   "execution_count": null,
   "metadata": {},
   "outputs": [],
   "source": []
  }
 ],
 "metadata": {
  "kernelspec": {
   "display_name": "Python 3",
   "language": "python",
   "name": "python3"
  },
  "language_info": {
   "codemirror_mode": {
    "name": "ipython",
    "version": 3
   },
   "file_extension": ".py",
   "mimetype": "text/x-python",
   "name": "python",
   "nbconvert_exporter": "python",
   "pygments_lexer": "ipython3",
   "version": "3.6.8"
  }
 },
 "nbformat": 4,
 "nbformat_minor": 2
}
